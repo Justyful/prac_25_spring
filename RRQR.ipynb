{
 "cells": [
  {
   "cell_type": "code",
   "execution_count": 333,
   "id": "de95aa75-a6c1-4cc8-8785-07be8df0a34a",
   "metadata": {},
   "outputs": [],
   "source": [
    "import numpy as np"
   ]
  },
  {
   "cell_type": "code",
   "execution_count": 343,
   "id": "dfe51076-5559-44c5-8217-339c3dcb5313",
   "metadata": {},
   "outputs": [],
   "source": [
    "def householder_reflection(x):\n",
    "    norm_x = np.linalg.norm(x)\n",
    "    v = x.copy()\n",
    "    v[0] += np.sign(x[0]) * norm_x\n",
    "    v = v / np.linalg.norm(v)\n",
    "    H = np.eye(len(x)) - 2 * np.outer(v, v)\n",
    "    return H\n",
    "\n",
    "def RRQR(A, eps, verbose=False):\n",
    "    m, n = A.shape\n",
    "    if (m < n):\n",
    "        print('error m < n')\n",
    "        return 0, 0, 0\n",
    "    norms = np.array([(np.linalg.norm(A[:, i]), i, -i) for i in range(n)], dtype = [('norm', float), ('index', int), ('anti_index', int)])\n",
    "    norms = np.sort(norms, order=['norm', 'anti_index'])[::-1]\n",
    "    perm = norms['index']\n",
    "    A_perm = A[:, perm]\n",
    "    inv_perm = np.zeros(n).astype(int)\n",
    "    for i in range(n):\n",
    "        inv_perm[perm[i]] = i\n",
    "    if verbose:\n",
    "        print('A\\n', A, '\\n')\n",
    "        print('norms\\n', norms, '\\n')\n",
    "        print('permutation\\n', perm, '\\n')\n",
    "        print('inverse permutation\\n', inv_perm, '\\n')\n",
    "        print('permuted A\\n', A_perm, '\\n')\n",
    "        print('inverse permuted\\n', (A_perm[:, inv_perm]), '\\n')\n",
    "    stop_iter = n\n",
    "    Q = np.eye(m)\n",
    "    R = A_perm.copy()\n",
    "    for k in range(n):\n",
    "        if verbose:\n",
    "            print(k + 1, f'iter of {n}')\n",
    "        x = R[k:, k]\n",
    "        H_k = householder_reflection(x)\n",
    "        H_k_full = np.eye(m)\n",
    "        H_k_full[k:, k:] = H_k\n",
    "        R = H_k_full @ R\n",
    "        Q = Q @ H_k_full\n",
    "        if (k + 1 < n) and np.abs(R[k+1,k+1]) < eps:\n",
    "            print(f'stopping iterations with R[{k+2}, {k+2}] = {R[k+1,k+1]} < {eps} after {k + 1} of {n} iterations')\n",
    "            stop_iter = k + 1\n",
    "            break\n",
    "    Q = Q[:,:stop_iter]\n",
    "    R = np.triu(R[:stop_iter,:])    \n",
    "    A_perm = A[:,perm]\n",
    "    if verbose:\n",
    "        print('A_perm\\n', A_perm, '\\n')\n",
    "        print('Q\\n', Q, '\\n')\n",
    "        print('R\\n', R, '\\n')\n",
    "        print('diff\\n', Q @ R - A_perm)\n",
    "    print('rrqr_diff_norm =', np.linalg.norm(Q @ R - A_perm, ord='fro'))\n",
    "    return Q, R, inv_perm"
   ]
  },
  {
   "cell_type": "code",
   "execution_count": 344,
   "id": "db4724ea-0fa4-4a4e-8367-3ebfdce21621",
   "metadata": {},
   "outputs": [
    {
     "name": "stdout",
     "output_type": "stream",
     "text": [
      "A\n",
      " [[ 7.94530085 13.71231475 10.39437726 15.65830235]\n",
      " [10.63027936  5.84933758 10.02918395 16.14798911]\n",
      " [10.76288563 15.19173756 12.8149968   2.84097472]\n",
      " [ 9.88450479 16.11591989  7.4517219  13.17763934]\n",
      " [ 4.48706453 14.05621541  5.28020878 15.65177235]] \n",
      "\n",
      "norms\n",
      " [(30.53914338, 3, -3) (30.1716967 , 1, -1) (21.36025553, 2, -2)\n",
      " (20.24370359, 0,  0)] \n",
      "\n",
      "permutation\n",
      " [3 1 2 0] \n",
      "\n",
      "inverse permutation\n",
      " [3 1 2 0] \n",
      "\n",
      "permuted A\n",
      " [[15.65830235 13.71231475 10.39437726  7.94530085]\n",
      " [16.14798911  5.84933758 10.02918395 10.63027936]\n",
      " [ 2.84097472 15.19173756 12.8149968  10.76288563]\n",
      " [13.17763934 16.11591989  7.4517219   9.88450479]\n",
      " [15.65177235 14.05621541  5.28020878  4.48706453]] \n",
      "\n",
      "inverse permuted\n",
      " [[ 7.94530085 13.71231475 10.39437726 15.65830235]\n",
      " [10.63027936  5.84933758 10.02918395 16.14798911]\n",
      " [10.76288563 15.19173756 12.8149968   2.84097472]\n",
      " [ 9.88450479 16.11591989  7.4517219  13.17763934]\n",
      " [ 4.48706453 14.05621541  5.28020878 15.65177235]] \n",
      "\n",
      "1 iter of 4\n",
      "2 iter of 4\n",
      "3 iter of 4\n",
      "4 iter of 4\n",
      "A_perm\n",
      " [[15.65830235 13.71231475 10.39437726  7.94530085]\n",
      " [16.14798911  5.84933758 10.02918395 10.63027936]\n",
      " [ 2.84097472 15.19173756 12.8149968  10.76288563]\n",
      " [13.17763934 16.11591989  7.4517219   9.88450479]\n",
      " [15.65177235 14.05621541  5.28020878  4.48706453]] \n",
      "\n",
      "Q\n",
      " [[-0.51272893  0.03400601 -0.12091847  0.54780871]\n",
      " [-0.52876366 -0.4892423  -0.57616604 -0.29087837]\n",
      " [-0.09302732  0.80946533 -0.51588312  0.05529433]\n",
      " [-0.43149997  0.31796907  0.34878852 -0.70631287]\n",
      " [-0.51251511  0.05609913  0.51538587  0.33668984]] \n",
      "\n",
      "R\n",
      " [[-30.53914338 -25.69490591 -17.74631527 -17.26078526]\n",
      " [  0.          15.81464801   8.48569803   7.17627556]\n",
      " [  0.           0.          -8.32596779  -6.87775905]\n",
      " [  0.           0.           0.          -3.61529065]] \n",
      "\n",
      "diff\n",
      " [[-3.55271368e-15  0.00000000e+00 -1.77635684e-15 -1.77635684e-15]\n",
      " [ 3.55271368e-15 -6.21724894e-15 -1.77635684e-15 -1.77635684e-15]\n",
      " [ 0.00000000e+00  1.06581410e-14  0.00000000e+00  1.77635684e-15]\n",
      " [ 1.77635684e-15  3.55271368e-15 -1.77635684e-15  1.77635684e-15]\n",
      " [ 0.00000000e+00  0.00000000e+00 -2.66453526e-15 -8.88178420e-16]]\n",
      "rrqr_diff_norm = 1.4941473694972205e-14\n",
      "pqr diff = 1.4941473694972205e-14\n",
      "\n",
      "np Q\n",
      " [[-0.39248257  0.23531743 -0.48669332  0.36397222]\n",
      " [-0.52511534 -0.69461592  0.06061611  0.41667115]\n",
      " [-0.53166584  0.04547562 -0.41172422 -0.69197372]\n",
      " [-0.48827551  0.21656643  0.76794562 -0.18103421]\n",
      " [-0.22165235  0.64277941  0.01407094  0.42697583]]\n",
      "\n",
      "np R\n",
      " [[-20.24370359 -27.51495165 -20.96825035 -26.03918763]\n",
      " [  0.          12.37977049   1.07011952   5.51168758]\n",
      " [  0.           0.          -3.93037375   2.52828453]\n",
      " [  0.           0.           0.          14.75903328]]\n",
      "\n",
      "np diff\n",
      " [[0.00000000e+00 3.55271368e-15 0.00000000e+00 1.77635684e-15]\n",
      " [0.00000000e+00 0.00000000e+00 0.00000000e+00 0.00000000e+00]\n",
      " [0.00000000e+00 1.77635684e-15 1.77635684e-15 8.88178420e-16]\n",
      " [0.00000000e+00 0.00000000e+00 8.88178420e-16 1.77635684e-15]\n",
      " [0.00000000e+00 0.00000000e+00 8.88178420e-16 0.00000000e+00]]\n",
      "np_diff_norm = 5.254534392573277e-15 \n",
      "\n"
     ]
    }
   ],
   "source": [
    "A = np.random.normal(loc=10, scale=5, size=(5,4))\n",
    "Q, R, P = RRQR(A, 1e-8, True)\n",
    "print('pqr diff =', np.linalg.norm((Q @ R)[:, P] - A, ord='fro'))\n",
    "print('\\nnp Q\\n', np.linalg.qr(A)[0])\n",
    "print('\\nnp R\\n', np.linalg.qr(A)[1])\n",
    "print('\\nnp diff\\n', np.linalg.qr(A)[0] @ np.linalg.qr(A)[1] - A)\n",
    "print('np_diff_norm =', np.linalg.norm(np.linalg.qr(A)[0] @ np.linalg.qr(A)[1] - A, ord='fro'), '\\n')"
   ]
  },
  {
   "cell_type": "code",
   "execution_count": 345,
   "id": "4a45ad60-60c8-473c-8a97-c59864cb9837",
   "metadata": {},
   "outputs": [
    {
     "name": "stdout",
     "output_type": "stream",
     "text": [
      "rrqr_diff_norm = 8.574660387764163e-13\n",
      "pqr diff = 8.574660387764163e-13\n",
      "np_diff_norm = 2.752454386489642e-13 \n",
      "\n"
     ]
    }
   ],
   "source": [
    "A = np.random.normal(loc=10, scale=5, size=(100,50))\n",
    "Q, R, P = RRQR(A, 1e-8, False)\n",
    "print('pqr diff =', np.linalg.norm((Q @ R)[:, P] - A, ord='fro'))\n",
    "print('np_diff_norm =', np.linalg.norm(np.linalg.qr(A)[0] @ np.linalg.qr(A)[1] - A, ord='fro'), '\\n')"
   ]
  },
  {
   "cell_type": "code",
   "execution_count": 346,
   "id": "80cea14d-fbe5-45a4-b60f-a525072a3f44",
   "metadata": {},
   "outputs": [
    {
     "name": "stdout",
     "output_type": "stream",
     "text": [
      "stopping iterations with R[100, 100] = 0.0 < 1e-08 after 99 of 100 iterations\n",
      "rrqr_diff_norm = 0.0\n",
      "pqr diff = 0.0\n",
      "np_diff_norm = 0.0 \n",
      "\n"
     ]
    }
   ],
   "source": [
    "n = 100\n",
    "A = np.zeros((n, n))\n",
    "for i in range(n - 1):\n",
    "    A[i, i + 1] = 1.0\n",
    "Q, R, P = RRQR(A, 1e-8, False)\n",
    "print('pqr diff =', np.linalg.norm((Q @ R)[:, P] - A, ord='fro'))\n",
    "print('np_diff_norm =', np.linalg.norm(np.linalg.qr(A)[0] @ np.linalg.qr(A)[1] - A, ord='fro'), '\\n')"
   ]
  },
  {
   "cell_type": "code",
   "execution_count": 347,
   "id": "2ce487e6-2b02-4cf7-8977-c39d4542f478",
   "metadata": {},
   "outputs": [
    {
     "name": "stdout",
     "output_type": "stream",
     "text": [
      "stopping iterations with R[3, 3] = 6.493511274746708e-16 < 1e-08 after 2 of 1000 iterations\n",
      "rrqr_diff_norm = 7.42554805918766e-09\n",
      "pqr diff = 7.425548059187657e-09\n",
      "np_diff_norm = 3.382197859067353e-13 \n",
      "\n"
     ]
    }
   ],
   "source": [
    "n = 1000\n",
    "A = np.zeros((n, n))\n",
    "for i in range(n):\n",
    "    for j in range(n):\n",
    "        A[i, j] = np.sin(i + j)\n",
    "Q, R, P = RRQR(A, 1e-8, False)\n",
    "print('pqr diff =', np.linalg.norm((Q @ R)[:, P] - A, ord='fro'))\n",
    "print('np_diff_norm =', np.linalg.norm(np.linalg.qr(A)[0] @ np.linalg.qr(A)[1] - A, ord='fro'), '\\n')"
   ]
  },
  {
   "cell_type": "code",
   "execution_count": 348,
   "id": "a569f4f3-7a54-4e61-a35b-0457fd544d0d",
   "metadata": {},
   "outputs": [
    {
     "name": "stdout",
     "output_type": "stream",
     "text": [
      "stopping iterations with R[3, 3] = 9.461808007083764e-18 < 1e-08 after 2 of 5000 iterations\n",
      "rrqr_diff_norm = 3.3863133697387156e-08\n",
      "pqr diff = 3.386313369738998e-08\n",
      "np_diff_norm = 5.831489138106291e-12 \n",
      "\n"
     ]
    }
   ],
   "source": [
    "n = 5000\n",
    "A = np.zeros((n, n))\n",
    "for i in range(n):\n",
    "    for j in range(n):\n",
    "        A[i, j] = np.sin(i + j)\n",
    "Q, R, P = RRQR(A, 1e-8, False)\n",
    "print('pqr diff =', np.linalg.norm((Q @ R)[:, P] - A, ord='fro'))\n",
    "print('np_diff_norm =', np.linalg.norm(np.linalg.qr(A)[0] @ np.linalg.qr(A)[1] - A, ord='fro'), '\\n')"
   ]
  },
  {
   "cell_type": "code",
   "execution_count": null,
   "id": "a6452288-e3fb-46f4-a301-5dba023fb9a4",
   "metadata": {},
   "outputs": [],
   "source": []
  }
 ],
 "metadata": {
  "kernelspec": {
   "display_name": "Python 3 (ipykernel)",
   "language": "python",
   "name": "python3"
  },
  "language_info": {
   "codemirror_mode": {
    "name": "ipython",
    "version": 3
   },
   "file_extension": ".py",
   "mimetype": "text/x-python",
   "name": "python",
   "nbconvert_exporter": "python",
   "pygments_lexer": "ipython3",
   "version": "3.12.3"
  }
 },
 "nbformat": 4,
 "nbformat_minor": 5
}
