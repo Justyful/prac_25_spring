{
 "cells": [
  {
   "cell_type": "code",
   "execution_count": 40,
   "id": "3969c7fa-6fa1-434a-9ff5-b6c86c7280fd",
   "metadata": {
    "tags": []
   },
   "outputs": [],
   "source": [
    "import numpy as np\n",
    "import scipy\n",
    "import time"
   ]
  },
  {
   "cell_type": "code",
   "execution_count": 78,
   "id": "fb833d85-acb1-4810-9755-c162413bb8e4",
   "metadata": {
    "tags": []
   },
   "outputs": [],
   "source": [
    "def rsvd(A, rank, verbose=False):\n",
    "    m, n = A.shape\n",
    "    transpose = False\n",
    "    if m < n:\n",
    "        m, n = n, m\n",
    "        A = A.T\n",
    "        transpose = True\n",
    "    if not rank:\n",
    "        rank = n\n",
    "    if verbose:\n",
    "        print(A.shape, transpose, m, n, rank)\n",
    "    \n",
    "    random = np.random.rand(n, rank)\n",
    "    Q, R = np.linalg.qr(A @ random)\n",
    "    if verbose:\n",
    "        print(Q.shape, R.shape)\n",
    "        \n",
    "    U, s, V = np.linalg.svd(Q.T @ A, full_matrices=False)\n",
    "    U = Q @ U\n",
    "    if verbose:\n",
    "        print(U.shape, s.shape, V.shape)\n",
    "        \n",
    "    if transpose:\n",
    "        return V.T, s, U.T\n",
    "    return U, s, V"
   ]
  },
  {
   "cell_type": "code",
   "execution_count": 79,
   "id": "3f4d60c8-5085-49b7-baa0-5aad53a7d0b9",
   "metadata": {
    "tags": []
   },
   "outputs": [
    {
     "name": "stdout",
     "output_type": "stream",
     "text": [
      "[[0 1 2 3]\n",
      " [1 2 3 4]\n",
      " [2 3 4 5]\n",
      " [3 4 5 6]]\n",
      "(4, 4)\n",
      "[[ 2.02961807e-15  1.77635684e-15  4.44089210e-16  0.00000000e+00]\n",
      " [-2.88657986e-15  4.44089210e-16  3.10862447e-15  5.32907052e-15]\n",
      " [ 0.00000000e+00  4.44089210e-16 -4.44089210e-16 -8.88178420e-16]\n",
      " [-8.88178420e-16  8.88178420e-16  0.00000000e+00  8.88178420e-16]]\n"
     ]
    }
   ],
   "source": [
    "n_cols = 4\n",
    "n_rows = 4\n",
    "matrix = np.array([[i + j for i in range(n_cols)] for j in range(n_rows)])\n",
    "print(matrix)\n",
    "print(matrix.shape)\n",
    "U, s, V = rsvd(matrix, 2)\n",
    "print((U * s) @ V - matrix)"
   ]
  },
  {
   "cell_type": "code",
   "execution_count": 80,
   "id": "a3fceace-e3b6-4518-b7e0-ead7e1d562a9",
   "metadata": {
    "tags": []
   },
   "outputs": [
    {
     "name": "stdout",
     "output_type": "stream",
     "text": [
      "(1000, 1000)\n",
      "rsvd time = 2.002716064453125e-05\n",
      "rsvd error = 3.19388612160583e-09\n",
      "np.linalg.svd time = 0.2980070114135742\n",
      "scipy.sparse.linalg.svds = 0.04700803756713867\n"
     ]
    }
   ],
   "source": [
    "n_cols = 1000\n",
    "n_rows = 1000\n",
    "matrix = np.array([[(i + j)*1.0 for i in range(n_cols)] for j in range(n_rows)])\n",
    "print(matrix.shape)\n",
    "U, s, V = rsvd(matrix, 10)\n",
    "st = time.time()\n",
    "print('rsvd time =', time.time() - st)\n",
    "print('rsvd error =', np.linalg.norm((U * s) @ V - matrix))\n",
    "st = time.time()\n",
    "_ = np.linalg.svd(matrix)\n",
    "print('np.linalg.svd time =', time.time() - st)\n",
    "st = time.time()\n",
    "_ = scipy.sparse.linalg.svds(matrix, k=10)\n",
    "print('scipy.sparse.linalg.svds =', time.time() - st)"
   ]
  },
  {
   "cell_type": "code",
   "execution_count": 81,
   "id": "41b253ea-7f4c-485f-90b0-333f12c176e6",
   "metadata": {
    "tags": []
   },
   "outputs": [
    {
     "name": "stdout",
     "output_type": "stream",
     "text": [
      "(1000, 1000)\n",
      "rsvd time = 0.0012340545654296875\n",
      "rsvd error = 3.785541571400418e-12\n",
      "np.linalg.svd time = 0.29467201232910156\n",
      "scipy.sparse.linalg.svds = 0.011233091354370117\n"
     ]
    }
   ],
   "source": [
    "n_cols = 1000\n",
    "n_rows = 1000\n",
    "matrix = np.array([[np.sin(i + j) for i in range(n_cols)] for j in range(n_rows)])\n",
    "print(matrix.shape)\n",
    "st = time.time()\n",
    "U, s, V = rsvd(matrix, 2)\n",
    "print('rsvd time =', time.time() - st)\n",
    "print('rsvd error =', np.linalg.norm((U * s) @ V - matrix))\n",
    "st = time.time()\n",
    "_ = np.linalg.svd(matrix)\n",
    "print('np.linalg.svd time =', time.time() - st)\n",
    "st = time.time()\n",
    "_ = scipy.sparse.linalg.svds(matrix, k=2)\n",
    "print('scipy.sparse.linalg.svds =', time.time() - st)"
   ]
  },
  {
   "cell_type": "code",
   "execution_count": 84,
   "id": "6601b509-2c83-41e2-8dfd-c53bdc302eee",
   "metadata": {
    "tags": []
   },
   "outputs": [
    {
     "name": "stdout",
     "output_type": "stream",
     "text": [
      "(500, 1000)\n",
      "rsvd time = 2.09808349609375e-05\n",
      "rsvd error = 1.701682797807732e-09\n",
      "np.linalg.svd time = 0.1624000072479248\n",
      "scipy.sparse.linalg.svds = 0.004601955413818359\n"
     ]
    }
   ],
   "source": [
    "n_cols = 1000\n",
    "n_rows = 500\n",
    "matrix = np.array([[(i + j)*1.0 for i in range(n_cols)] for j in range(n_rows)])\n",
    "print(matrix.shape)\n",
    "U, s, V = rsvd(matrix, 10)\n",
    "st = time.time()\n",
    "print('rsvd time =', time.time() - st)\n",
    "print('rsvd error =', np.linalg.norm((U * s) @ V - matrix))\n",
    "st = time.time()\n",
    "_ = np.linalg.svd(matrix)\n",
    "print('np.linalg.svd time =', time.time() - st)\n",
    "st = time.time()\n",
    "_ = scipy.sparse.linalg.svds(matrix, k=10)\n",
    "print('scipy.sparse.linalg.svds =', time.time() - st)"
   ]
  },
  {
   "cell_type": "code",
   "execution_count": 83,
   "id": "63e548ed-58e8-4de8-b020-c09dcb407b9a",
   "metadata": {
    "tags": []
   },
   "outputs": [
    {
     "name": "stdout",
     "output_type": "stream",
     "text": [
      "(1000, 500)\n",
      "rsvd time = 2.2649765014648438e-05\n",
      "rsvd error = 2.0340375531710603e-09\n",
      "np.linalg.svd time = 0.29000091552734375\n",
      "scipy.sparse.linalg.svds = 0.10236167907714844\n"
     ]
    }
   ],
   "source": [
    "n_cols = 500\n",
    "n_rows = 1000\n",
    "matrix = np.array([[(i + j)*1.0 for i in range(n_cols)] for j in range(n_rows)])\n",
    "print(matrix.shape)\n",
    "U, s, V = rsvd(matrix, 10)\n",
    "st = time.time()\n",
    "print('rsvd time =', time.time() - st)\n",
    "print('rsvd error =', np.linalg.norm((U * s) @ V - matrix))\n",
    "st = time.time()\n",
    "_ = np.linalg.svd(matrix)\n",
    "print('np.linalg.svd time =', time.time() - st)\n",
    "st = time.time()\n",
    "_ = scipy.sparse.linalg.svds(matrix, k=10)\n",
    "print('scipy.sparse.linalg.svds =', time.time() - st)"
   ]
  },
  {
   "cell_type": "code",
   "execution_count": null,
   "id": "be8aa4fb-825e-4b3b-82a1-5bfead8dfe0c",
   "metadata": {},
   "outputs": [],
   "source": []
  }
 ],
 "metadata": {
  "kernelspec": {
   "display_name": "Python 3 (ipykernel)",
   "language": "python",
   "name": "python3"
  },
  "language_info": {
   "codemirror_mode": {
    "name": "ipython",
    "version": 3
   },
   "file_extension": ".py",
   "mimetype": "text/x-python",
   "name": "python",
   "nbconvert_exporter": "python",
   "pygments_lexer": "ipython3",
   "version": "3.11.4"
  }
 },
 "nbformat": 4,
 "nbformat_minor": 5
}
